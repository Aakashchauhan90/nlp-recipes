{
 "cells": [
  {
   "cell_type": "markdown",
   "metadata": {},
   "source": [
    "Copyright (c) Microsoft Corporation. All rights reserved.\n",
    "\n",
    "Licensed under the MIT License."
   ]
  },
  {
   "cell_type": "markdown",
   "metadata": {},
   "source": [
    "## Abstractive Summarization on CNN/DM Dataset using Transformers\n",
    "\n",
    "\n",
    "### Summary\n",
    "\n",
    "This notebook demonstrates how to fine tune Transformers models like [BART](https://arxiv.org/abs/1910.13461) and [T5](https://arxiv.org/abs/1910.10683) together with HuggingFace's [transformers library](https://github.com/huggingface/transformers)for abstractive text summarization. Utility functions and classes in the NLP Best Practices repo are used to facilitate data preprocessing, model training, model scoring, result postprocessing, and model evaluation.\n",
    "\n",
    "\n",
    "\n",
    "\n",
    "### Before You Start\n",
    "\n",
    "Set QUICK_RUN = True to run the notebook on a small subset of data and a smaller number of steps. If QUICK_RUN = True, the notebook takes about 5 minutes to run on a VM with 1 Tesla K80 GPUs with 12GB GPU memory. If QUICK_RUN = False, it takes around 15 minutes for data preprocessing, 15 minutes for fine-tuning and 3 hours for running evaluation on the whole CNN/DM test dataset.\n",
    "\n",
    "### Additional Notes\n",
    "\n",
    "* **ROUGE Evalation**: To run rouge evaluation, please refer to the section of compute_rouge_perl in [summarization_evaluation.ipynb](./summarization_evaluation.ipynb) for setup.\n",
    "\n",
    "* **Distributed Training**:\n",
    "Please note that the jupyter notebook only allows to use pytorch [DataParallel](https://pytorch.org/docs/master/nn.html#dataparallel). Faster speed and larger batch size can be achieved with pytorch [DistributedDataParallel](https://pytorch.org/docs/master/notes/ddp.html)(DDP). Script [extractive_summarization_cnndm_distributed_train.py](./extractive_summarization_cnndm_distributed_train.py) shows an example of how to use DDP.\n",
    "\n"
   ]
  },
  {
   "cell_type": "code",
   "execution_count": 1,
   "metadata": {
    "tags": [
     "parameters"
    ]
   },
   "outputs": [],
   "source": [
    "%load_ext autoreload\n",
    "\n",
    "%autoreload 2\n",
    "## Set QUICK_RUN = True to run the notebook on a small subset of data and a smaller number of epochs.\n",
    "QUICK_RUN = False"
   ]
  },
  {
   "cell_type": "markdown",
   "metadata": {},
   "source": [
    "### Configuration\n"
   ]
  },
  {
   "cell_type": "code",
   "execution_count": 2,
   "metadata": {
    "scrolled": true
   },
   "outputs": [
    {
     "name": "stderr",
     "output_type": "stream",
     "text": [
      "/dadendev/anaconda3/envs/nlp_gpu/lib/python3.6/site-packages/dask/dataframe/utils.py:15: FutureWarning: pandas.util.testing is deprecated. Use the functions in the public API at pandas.testing instead.\n",
      "  import pandas.util.testing as tm\n"
     ]
    }
   ],
   "source": [
    "import os\n",
    "import shutil\n",
    "import sys\n",
    "from tempfile import TemporaryDirectory\n",
    "import time\n",
    "import torch\n",
    "\n",
    "nlp_path = os.path.abspath(\"../../\")\n",
    "if nlp_path not in sys.path:\n",
    "    sys.path.insert(0, nlp_path)\n",
    "\n",
    "from utils_nlp.dataset.cnndm import CNNDMSummarizationDataset\n",
    "from utils_nlp.eval import compute_rouge_python, compute_rouge_perl\n",
    "from utils_nlp.models.transformers.abstractive_summarization_bartt5 import (\n",
    "    AbstractiveSummarizer)\n",
    "\n",
    "from utils_nlp.models.transformers.datasets import SummarizationDataset\n",
    "import nltk\n",
    "from nltk import tokenize\n",
    "\n",
    "import pandas as pd\n",
    "import scrapbook as sb\n",
    "import pprint\n",
    "start_time = time.time()"
   ]
  },
  {
   "cell_type": "markdown",
   "metadata": {},
   "source": [
    "\n",
    "### Configuration: choose the transformer model to be used"
   ]
  },
  {
   "cell_type": "markdown",
   "metadata": {},
   "source": [
    "Several pretrained models have been made available by [Hugging Face](https://github.com/huggingface/transformers). For abstractive summarization, the following pretrained models are supported. "
   ]
  },
  {
   "cell_type": "code",
   "execution_count": 3,
   "metadata": {},
   "outputs": [
    {
     "data": {
      "text/html": [
       "<div>\n",
       "<style scoped>\n",
       "    .dataframe tbody tr th:only-of-type {\n",
       "        vertical-align: middle;\n",
       "    }\n",
       "\n",
       "    .dataframe tbody tr th {\n",
       "        vertical-align: top;\n",
       "    }\n",
       "\n",
       "    .dataframe thead th {\n",
       "        text-align: right;\n",
       "    }\n",
       "</style>\n",
       "<table border=\"1\" class=\"dataframe\">\n",
       "  <thead>\n",
       "    <tr style=\"text-align: right;\">\n",
       "      <th></th>\n",
       "      <th>model_name</th>\n",
       "    </tr>\n",
       "  </thead>\n",
       "  <tbody>\n",
       "    <tr>\n",
       "      <th>0</th>\n",
       "      <td>bart-large</td>\n",
       "    </tr>\n",
       "    <tr>\n",
       "      <th>1</th>\n",
       "      <td>bart-large-mnli</td>\n",
       "    </tr>\n",
       "    <tr>\n",
       "      <th>2</th>\n",
       "      <td>bart-large-cnn</td>\n",
       "    </tr>\n",
       "    <tr>\n",
       "      <th>3</th>\n",
       "      <td>bart-large-xsum</td>\n",
       "    </tr>\n",
       "    <tr>\n",
       "      <th>4</th>\n",
       "      <td>t5-small</td>\n",
       "    </tr>\n",
       "    <tr>\n",
       "      <th>5</th>\n",
       "      <td>t5-base</td>\n",
       "    </tr>\n",
       "    <tr>\n",
       "      <th>6</th>\n",
       "      <td>t5-large</td>\n",
       "    </tr>\n",
       "    <tr>\n",
       "      <th>7</th>\n",
       "      <td>t5-3b</td>\n",
       "    </tr>\n",
       "    <tr>\n",
       "      <th>8</th>\n",
       "      <td>t5-11b</td>\n",
       "    </tr>\n",
       "  </tbody>\n",
       "</table>\n",
       "</div>"
      ],
      "text/plain": [
       "        model_name\n",
       "0       bart-large\n",
       "1  bart-large-mnli\n",
       "2   bart-large-cnn\n",
       "3  bart-large-xsum\n",
       "4         t5-small\n",
       "5          t5-base\n",
       "6         t5-large\n",
       "7            t5-3b\n",
       "8           t5-11b"
      ]
     },
     "execution_count": 3,
     "metadata": {},
     "output_type": "execute_result"
    }
   ],
   "source": [
    "pd.DataFrame({\"model_name\": AbstractiveSummarizer.list_supported_models()})"
   ]
  },
  {
   "cell_type": "code",
   "execution_count": 4,
   "metadata": {
    "tags": [
     "parameters"
    ]
   },
   "outputs": [],
   "source": [
    "# Transformer model being used\n",
    "# MODEL_NAME = \"bart-large\"\n",
    "MODEL_NAME = \"t5-small\"\n",
    "# notebook parameters\n",
    "# the cache data path during find tuning\n",
    "CACHE_DIR = \"./t5_cache\" #TemporaryDirectory().name\n",
    "summarizer = AbstractiveSummarizer(MODEL_NAME, cache_dir=CACHE_DIR)"
   ]
  },
  {
   "cell_type": "markdown",
   "metadata": {},
   "source": [
    "### Data Preprocessing\n",
    "\n",
    "The dataset we used for this notebook is CNN/DM dataset which contains the documents and accompanying questions from the news articles of CNN and Daily mail. The highlights in each article are used as summary. The dataset consits of ~289K training examples, ~11K valiation examples and ~11K test examples.   The code in following cell will download the CNN/DM dataset listed at https://github.com/harvardnlp/sent-summary/.\n"
   ]
  },
  {
   "cell_type": "code",
   "execution_count": 5,
   "metadata": {
    "tags": [
     "parameters"
    ]
   },
   "outputs": [],
   "source": [
    "# the data path used to save the downloaded data file\n",
    "DATA_PATH = \"./bartt5_cnndm\" #TemporaryDirectory().name\n",
    "# The number of lines at the head of data file used for preprocessing. -1 means all the lines.\n",
    "TOP_N = 100\n",
    "if not QUICK_RUN:\n",
    "    TOP_N = -1"
   ]
  },
  {
   "cell_type": "code",
   "execution_count": 6,
   "metadata": {
    "scrolled": false
   },
   "outputs": [],
   "source": [
    "train_dataset, test_dataset = CNNDMSummarizationDataset(top_n=TOP_N, local_cache_path=DATA_PATH, sent_split=False)"
   ]
  },
  {
   "cell_type": "code",
   "execution_count": 7,
   "metadata": {},
   "outputs": [
    {
     "data": {
      "text/plain": [
       "\"<t> marseille prosecutor says `` so far no videos were used in the crash investigation '' despite media reports . </t> <t> journalists at bild and paris match are `` very confident '' the video clip is real , an editor says . </t> <t> andreas lubitz had informed his lufthansa training school of an episode of severe depression , airline says . </t>\\n\""
      ]
     },
     "execution_count": 7,
     "metadata": {},
     "output_type": "execute_result"
    }
   ],
   "source": [
    "test_dataset[0]['tgt_txt']"
   ]
  },
  {
   "cell_type": "code",
   "execution_count": 8,
   "metadata": {},
   "outputs": [
    {
     "name": "stdout",
     "output_type": "stream",
     "text": [
      "287227\n",
      "11490\n"
     ]
    }
   ],
   "source": [
    "print(len(train_dataset))\n",
    "print(len(test_dataset))"
   ]
  },
  {
   "cell_type": "markdown",
   "metadata": {},
   "source": [
    "Preprocess the data."
   ]
  },
  {
   "cell_type": "code",
   "execution_count": 15,
   "metadata": {},
   "outputs": [],
   "source": [
    "from multiprocessing import Pool\n",
    "def preprocess(summarizer, input_data_list, num_workers=50, chunk_size=100, internal_batch_size=5e3):\n",
    "        \"\"\" preprocess the data for abstractive summarization.\n",
    "\n",
    "        Args:\n",
    "            input_data_list (list of dictionary): input list where each item is\n",
    "                an dictionary with fields \"src\" and \"tgt\" and both fields are string.\n",
    "            num_workers (int, optional): The number of workers in the pool.\n",
    "                Defautls to 50.\n",
    "            chunk_size (int, optional): The size that a worker processes.\n",
    "                Defaults to 100.\n",
    "            internal_batch_size (int, optional): The size that one pool processes.\n",
    "                Defaults to 5000. Reduce this number if you see segment fault.\n",
    "\n",
    "        Returns:\n",
    "            list of dictionary with addtional fields \"source_ids\",\n",
    "                \"source_mask\" and \"target_ids\".\n",
    "        \"\"\"\n",
    "        i = 0\n",
    "        temp_dir = TemporaryDirectory().name\n",
    "        os.makedirs(temp_dir, mode=0o777, exist_ok=False)\n",
    "        temp_file = \".temp_preprocess\"\n",
    "        processed_length = 0\n",
    "        result = []\n",
    "        print(len(input_data_list))\n",
    "        pool = Pool(num_workers, initializer=summarizer.processor.initializer)\n",
    "        while processed_length < len(input_data_list):\n",
    "            max_length = int(min(processed_length+internal_batch_size, len(input_data_list)))\n",
    "            temp = []\n",
    "            for j in range(processed_length, max_length):\n",
    "                temp.append(input_data_list[j])\n",
    "            result_generator = pool.imap(summarizer.processor.encode_example, temp, chunk_size)\n",
    "            torch.save(list(result_generator), os.path.join(temp_dir, temp_file+str(i)))\n",
    "            i += 1\n",
    "            processed_length = max_length\n",
    "            #print(processed_length)\n",
    "\n",
    "        pool.close()\n",
    "        pool.join()\n",
    "        result = []\n",
    "        total_batch_number = i\n",
    "        for i in range(total_batch_number):\n",
    "            result.extend(torch.load(os.path.join(temp_dir, temp_file+str(i))))\n",
    "        if os.path.exists(temp_dir):\n",
    "            shutil.rmtree(temp_dir, ignore_errors=True)\n",
    "        return result\n",
    "\n"
   ]
  },
  {
   "cell_type": "code",
   "execution_count": 10,
   "metadata": {
    "scrolled": false
   },
   "outputs": [
    {
     "name": "stdout",
     "output_type": "stream",
     "text": [
      "287227\n",
      "CPU times: user 1min 43s, sys: 57.7 s, total: 2min 40s\n",
      "Wall time: 13min 22s\n"
     ]
    }
   ],
   "source": [
    "%%time\n",
    "# abs_sum_train = summarizer.processor.preprocess(train_dataset)\n",
    "abs_sum_train = preprocess(summarizer, train_dataset)\n",
    "# torch.save(abs_sum_train,  os.path.join(DATA_PATH, \"train_{0}_full.pt\".format(MODEL_NAME)))\n",
    "# abs_sum_train = torch.load(os.path.join(DATA_PATH, \"train_{0}_full.pt\".format(MODEL_NAME)))"
   ]
  },
  {
   "cell_type": "code",
   "execution_count": 11,
   "metadata": {},
   "outputs": [],
   "source": [
    "# abs_sum_train = torch.load(os.path.join(DATA_PATH, \"train_{0}_full.pt\".format(MODEL_NAME)))\n",
    "\n",
    "# torch.save(abs_sum_test,  os.path.join(DATA_PATH, \"test_{0}_full.pt\".format(MODEL_NAME)))\n",
    "# abs_sum_test = torch.load(os.path.join(DATA_PATH, \"test_{0}_full.pt\".format(MODEL_NAME)))"
   ]
  },
  {
   "cell_type": "code",
   "execution_count": 16,
   "metadata": {},
   "outputs": [
    {
     "name": "stdout",
     "output_type": "stream",
     "text": [
      "11490\n",
      "CPU times: user 4.37 s, sys: 5.82 s, total: 10.2 s\n",
      "Wall time: 37.6 s\n"
     ]
    }
   ],
   "source": [
    "%%time\n",
    "# abs_sum_test= summarizer.processor.preprocess(test_dataset)\n",
    "abs_sum_test= preprocess(summarizer, test_dataset)"
   ]
  },
  {
   "cell_type": "code",
   "execution_count": 13,
   "metadata": {},
   "outputs": [
    {
     "name": "stdout",
     "output_type": "stream",
     "text": [
      "287227\n",
      "11490\n"
     ]
    }
   ],
   "source": [
    "print(len(abs_sum_train))\n",
    "print(len(abs_sum_test))"
   ]
  },
  {
   "cell_type": "markdown",
   "metadata": {},
   "source": [
    "#### Inspect Data"
   ]
  },
  {
   "cell_type": "code",
   "execution_count": 14,
   "metadata": {},
   "outputs": [
    {
     "data": {
      "text/plain": [
       "dict_keys(['source_ids', 'source_mask', 'target_ids'])"
      ]
     },
     "execution_count": 14,
     "metadata": {},
     "output_type": "execute_result"
    }
   ],
   "source": [
    "abs_sum_train[0].keys()"
   ]
  },
  {
   "cell_type": "code",
   "execution_count": 15,
   "metadata": {
    "scrolled": false
   },
   "outputs": [
    {
     "data": {
      "text/plain": [
       "{'source_ids': tensor([21603,    10,  6005,  ...,     3,    31,     7]),\n",
       " 'source_mask': tensor([1, 1, 1,  ..., 1, 1, 1]),\n",
       " 'target_ids': tensor([19367,     3,  1092,    16, 11171,    16,  1337,  3690,    33,   629,\n",
       "            26,    30,     8,    96, 11821,  1501,    96,  5191,     3,   849,\n",
       "          1926,    90,    99,   348,   845,   167,    33,   132,    38,     3,\n",
       "             9,   741,    13,    96,  1792,   179,  3110,   106,   725,    96,\n",
       "           298,     3,    75,    29,    29,  8108,  3064,     3,     6,  1868,\n",
       "         14314,     7,     3,    10,    96,     3,    23,   183,     8,   520,\n",
       "            13,     8,  2753,    96,    90,    99,   348,   845,     8,   358,\n",
       "            19,    73,  4998,    11,     3,    88,     3,    31,     7,  6237,\n",
       "            21,   483,     3,     5,     0,     0,     0,     0,     0,     0,\n",
       "             0,     0,     0,     0,     0,     0,     0,     0,     0,     0,\n",
       "             0,     0,     0,     0,     0,     0,     0,     0,     0,     0,\n",
       "             0,     0,     0,     0,     0,     0,     0,     0,     0,     0,\n",
       "             0,     0,     0,     0,     0,     0,     0,     0,     0,     0,\n",
       "             0,     0,     0,     0,     0,     0,     0,     0,     0,     0,\n",
       "             0,     0,     0,     0,     0,     0,     0,     0,     0,     0,\n",
       "             0,     0,     0,     0,     0,     0,     0,     0,     0,     0,\n",
       "             0,     0,     0,     0,     0,     0,     0,     0,     0,     0,\n",
       "             0,     0,     0,     0,     0,     0,     0,     0,     0,     0,\n",
       "             0,     0,     0,     0,     0,     0,     0,     0,     0,     0,\n",
       "             0,     0,     0,     0,     0,     0,     0,     0,     0,     0,\n",
       "             0,     0,     0,     0,     0,     0,     0,     0,     0,     0,\n",
       "             0,     0,     0,     0,     0,     0,     0,     0,     0,     0,\n",
       "             0,     0,     0,     0,     0,     0,     0,     0,     0,     0,\n",
       "             0,     0,     0,     0,     0,     0,     0,     0,     0,     0])}"
      ]
     },
     "execution_count": 15,
     "metadata": {},
     "output_type": "execute_result"
    }
   ],
   "source": [
    "abs_sum_train[0]"
   ]
  },
  {
   "cell_type": "markdown",
   "metadata": {},
   "source": [
    "## Fine tune model\n",
    "To start model fine-tuning, we need to specify the paramters as follows."
   ]
  },
  {
   "cell_type": "code",
   "execution_count": 17,
   "metadata": {
    "tags": [
     "parameters"
    ]
   },
   "outputs": [],
   "source": [
    "BATCH_SIZE_PER_GPU = 4\n",
    "GRADIENT_ACCUMULATION_STEPS = 1\n",
    "MAX_POS_LENGTH = 512\n",
    "\n",
    "# GPU used for training\n",
    "NUM_GPUS = torch.cuda.device_count()\n",
    "\n",
    "\n",
    "# Learning rate\n",
    "LEARNING_RATE=3e-5\n",
    "MAX_GRAD_NORM=0.1\n",
    "\n",
    "# How often the statistics reports show up in training, unit is step.\n",
    "REPORT_EVERY=100\n",
    "SAVE_EVERY=1000\n",
    "\n",
    "# total number of steps for training\n",
    "MAX_STEPS=100\n",
    "# number of steps for warm up\n",
    "WARMUP_STEPS=5e1\n",
    "    \n",
    "if not QUICK_RUN:\n",
    "    MAX_STEPS=1000\n",
    "    WARMUP_STEPS=5e2\n",
    "    \n",
    "# inference parameters\n",
    "TEST_PER_GPU_BATCH_SIZE = 96\n",
    "BEAM_SIZE = 3\n",
    " "
   ]
  },
  {
   "cell_type": "code",
   "execution_count": 17,
   "metadata": {
    "scrolled": true
   },
   "outputs": [
    {
     "name": "stdout",
     "output_type": "stream",
     "text": [
      "timestamp: 21/05/2020 14:55:00, average loss: 2.950966, time duration: 91.118061,\n",
      "                            number of examples in current reporting: 400, step 100\n",
      "                            out of total 1000\n",
      "timestamp: 21/05/2020 14:56:28, average loss: 2.496747, time duration: 87.725076,\n",
      "                            number of examples in current reporting: 400, step 200\n",
      "                            out of total 1000\n",
      "timestamp: 21/05/2020 14:57:57, average loss: 2.232086, time duration: 88.453045,\n",
      "                            number of examples in current reporting: 400, step 300\n",
      "                            out of total 1000\n",
      "timestamp: 21/05/2020 14:59:25, average loss: 2.104675, time duration: 88.361590,\n",
      "                            number of examples in current reporting: 400, step 400\n",
      "                            out of total 1000\n",
      "timestamp: 21/05/2020 15:00:53, average loss: 1.996439, time duration: 88.524355,\n",
      "                            number of examples in current reporting: 400, step 500\n",
      "                            out of total 1000\n",
      "timestamp: 21/05/2020 15:02:22, average loss: 1.918175, time duration: 89.008806,\n",
      "                            number of examples in current reporting: 400, step 600\n",
      "                            out of total 1000\n",
      "timestamp: 21/05/2020 15:03:52, average loss: 1.981885, time duration: 89.146901,\n",
      "                            number of examples in current reporting: 400, step 700\n",
      "                            out of total 1000\n",
      "timestamp: 21/05/2020 15:05:20, average loss: 1.892776, time duration: 88.711287,\n",
      "                            number of examples in current reporting: 400, step 800\n",
      "                            out of total 1000\n",
      "timestamp: 21/05/2020 15:06:49, average loss: 1.842356, time duration: 88.697730,\n",
      "                            number of examples in current reporting: 400, step 900\n",
      "                            out of total 1000\n",
      "timestamp: 21/05/2020 15:08:17, average loss: 1.920532, time duration: 88.288858,\n",
      "                            number of examples in current reporting: 400, step 1000\n",
      "                            out of total 1000\n",
      "./t5_cache\n",
      "saving through pytorch to ./t5_cache/t5-small_step_1000.pt\n",
      "saving through pytorch to ./t5_cache/fine_tuned/abssum_t5-small.pt\n"
     ]
    }
   ],
   "source": [
    "\n",
    "summarizer.fit(\n",
    "            abs_sum_train,\n",
    "            num_gpus=NUM_GPUS,\n",
    "            batch_size=BATCH_SIZE_PER_GPU*NUM_GPUS,\n",
    "            gradient_accumulation_steps=GRADIENT_ACCUMULATION_STEPS,\n",
    "            max_steps=MAX_STEPS,\n",
    "            learning_rate=LEARNING_RATE,\n",
    "            max_grad_norm=MAX_GRAD_NORM,\n",
    "            warmup_steps=WARMUP_STEPS,\n",
    "            verbose=True,\n",
    "            report_every=REPORT_EVERY,\n",
    "        )\n"
   ]
  },
  {
   "cell_type": "code",
   "execution_count": 18,
   "metadata": {},
   "outputs": [
    {
     "data": {
      "text/plain": [
       "'\\nimport torch\\nmodel_path = os.path.join(\\n        CACHE_DIR,\\n        \"abssum_modelname_{0}_steps_{1}.pt\".format(\\n            MODEL_NAME, MAX_STEPS\\n        ))\\nsummarizer.save_model(global_step=MAX_STEPS, full_name=model_path)\\n\\nsummarizer = AbstractiveSummarizer(MODEL_NAME, cache_dir=CACHE_DIR)\\nsummarizer.model.load_state_dict(torch.load(model_path, map_location=\"cpu\")[\\'model\\'])\\n'"
      ]
     },
     "execution_count": 18,
     "metadata": {},
     "output_type": "execute_result"
    }
   ],
   "source": [
    "# save a finetuned model and load a previous saved model\n",
    "\"\"\"\n",
    "import torch\n",
    "model_path = os.path.join(\n",
    "        CACHE_DIR,\n",
    "        \"abssum_modelname_{0}_steps_{1}.pt\".format(\n",
    "            MODEL_NAME, MAX_STEPS\n",
    "        ))\n",
    "summarizer.save_model(global_step=MAX_STEPS, full_name=model_path)\n",
    "\n",
    "summarizer = AbstractiveSummarizer(MODEL_NAME, cache_dir=CACHE_DIR)\n",
    "summarizer.model.load_state_dict(torch.load(model_path, map_location=\"cpu\")['model'])\n",
    "\"\"\""
   ]
  },
  {
   "cell_type": "markdown",
   "metadata": {},
   "source": [
    "### Model Evaluation\n",
    "\n",
    "[ROUGE](https://en.wikipedia.org/wiki/ROUGE_(metric)), or Recall-Oriented Understudy for Gisting Evaluation has been commonly used for evaluating text summarization.             \n",
    "For the settings in this notebook with QUICK_RUN=False, you should get ROUGE scores close to the following numbers:\n",
    "\n",
    "``\n",
    "{'rouge-1': {'f': 0.3532833731474843,\n",
    "             'p': 0.5062112092750258,\n",
    "             'r': 0.2854026986121758},\n",
    " 'rouge-2': {'f': 0.1627400891022247,\n",
    "             'p': 0.23802173638805246,\n",
    "             'r': 0.13034686738843493},\n",
    " 'rouge-l': {'f': 0.2587374492685969,\n",
    "             'p': 0.3710902340617733,\n",
    "             'r': 0.20909466938819835}}\n",
    " ``           "
   ]
  },
  {
   "cell_type": "code",
   "execution_count": 18,
   "metadata": {},
   "outputs": [],
   "source": [
    "source = []\n",
    "target = []\n",
    "\n",
    "    \n",
    "for i in test_dataset:\n",
    "    source.append(i[\"src_txt\"]) \n",
    "    target.append(i['tgt'].replace(\"<t>\",\"\").replace(\"</t>\", \"\").replace(\"\\n\", \"\")) "
   ]
  },
  {
   "cell_type": "code",
   "execution_count": 19,
   "metadata": {},
   "outputs": [
    {
     "name": "stderr",
     "output_type": "stream",
     "text": [
      "\r",
      "Generating summary:   0%|          | 0/120 [00:00<?, ?it/s]"
     ]
    },
    {
     "name": "stdout",
     "output_type": "stream",
     "text": [
      "dataset length is 11490\n"
     ]
    },
    {
     "name": "stderr",
     "output_type": "stream",
     "text": [
      "Generating summary: 100%|██████████| 120/120 [3:22:25<00:00, 101.21s/it] \n"
     ]
    },
    {
     "name": "stdout",
     "output_type": "stream",
     "text": [
      "CPU times: user 3h 21min 52s, sys: 25.4 s, total: 3h 22min 17s\n",
      "Wall time: 3h 22min 28s\n"
     ]
    }
   ],
   "source": [
    "%%time\n",
    "prediction = summarizer.predict(abs_sum_test, \n",
    "                                num_gpus=NUM_GPUS, \n",
    "                                batch_size=TEST_PER_GPU_BATCH_SIZE*NUM_GPUS,\n",
    "                                min_length=24, \n",
    "                                max_length=48,\n",
    "                                num_beams=BEAM_SIZE,\n",
    "                                checkpoint=\"./t5_cache/fine_tuned/abssum_t5-small.pt\")"
   ]
  },
  {
   "cell_type": "code",
   "execution_count": 20,
   "metadata": {},
   "outputs": [
    {
     "name": "stdout",
     "output_type": "stream",
     "text": [
      "dataset length is 11490\n",
      "CPU times: user 3h 22min 45s, sys: 6.08 s, total: 3h 22min 51s\n",
      "Wall time: 3h 22min 14s\n"
     ]
    }
   ],
   "source": [
    "%%time\n",
    "prediction = summarizer.predict(abs_sum_test, \n",
    "                                num_gpus=NUM_GPUS, \n",
    "                                batch_size=TEST_PER_GPU_BATCH_SIZE*NUM_GPUS,\n",
    "                                min_length=24, \n",
    "                                max_length=48,\n",
    "                                num_beams=BEAM_SIZE)\n"
   ]
  },
  {
   "cell_type": "code",
   "execution_count": null,
   "metadata": {},
   "outputs": [
    {
     "name": "stdout",
     "output_type": "stream",
     "text": [
      "Number of candidates: 11490\n",
      "Number of references: 11490\n"
     ]
    }
   ],
   "source": [
    "rouge_scores = compute_rouge_python(cand=prediction, ref=target)\n",
    "pprint.pprint(rouge_scores)"
   ]
  },
  {
   "cell_type": "code",
   "execution_count": 23,
   "metadata": {},
   "outputs": [
    {
     "name": "stdout",
     "output_type": "stream",
     "text": [
      "Number of candidates: 11490\n",
      "Number of references: 11490\n",
      "{'rouge-1': {'f': 0.3532833731474843,\n",
      "             'p': 0.5062112092750258,\n",
      "             'r': 0.2854026986121758},\n",
      " 'rouge-2': {'f': 0.1627400891022247,\n",
      "             'p': 0.23802173638805246,\n",
      "             'r': 0.13034686738843493},\n",
      " 'rouge-l': {'f': 0.2587374492685969,\n",
      "             'p': 0.3710902340617733,\n",
      "             'r': 0.20909466938819835}}\n"
     ]
    }
   ],
   "source": [
    "rouge_scores = compute_rouge_python(cand=prediction, ref=target)\n",
    "pprint.pprint(rouge_scores)"
   ]
  },
  {
   "cell_type": "code",
   "execution_count": null,
   "metadata": {},
   "outputs": [],
   "source": [
    "prediction[0]"
   ]
  },
  {
   "cell_type": "code",
   "execution_count": null,
   "metadata": {},
   "outputs": [],
   "source": [
    "target[0]"
   ]
  },
  {
   "cell_type": "code",
   "execution_count": null,
   "metadata": {},
   "outputs": [],
   "source": [
    "# for testing\n",
    "sb.glue(\"rouge_2_f_score\", rouge_scores['rouge-2']['f'])"
   ]
  },
  {
   "cell_type": "markdown",
   "metadata": {},
   "source": [
    "## Prediction on a single input sample"
   ]
  },
  {
   "cell_type": "code",
   "execution_count": null,
   "metadata": {},
   "outputs": [],
   "source": [
    "source = \"\"\"\n",
    "But under the new rule, set to be announced in the next 48 hours, Border Patrol agents would immediately return anyone to Mexico — without any detainment and without any due process — who attempts to cross the southwestern border between the legal ports of entry. The person would not be held for any length of time in an American facility.\n",
    "\n",
    "Although they advised that details could change before the announcement, administration officials said the measure was needed to avert what they fear could be a systemwide outbreak of the coronavirus inside detention facilities along the border. Such an outbreak could spread quickly through the immigrant population and could infect large numbers of Border Patrol agents, leaving the southwestern border defenses weakened, the officials argued.\n",
    "The Trump administration plans to immediately turn back all asylum seekers and other foreigners attempting to enter the United States from Mexico illegally, saying the nation cannot risk allowing the coronavirus to spread through detention facilities and Border Patrol agents, four administration officials said.\n",
    "The administration officials said the ports of entry would remain open to American citizens, green-card holders and foreigners with proper documentation. Some foreigners would be blocked, including Europeans currently subject to earlier travel restrictions imposed by the administration. The points of entry will also be open to commercial traffic.\"\"\""
   ]
  },
  {
   "cell_type": "code",
   "execution_count": null,
   "metadata": {},
   "outputs": [],
   "source": [
    "small_test_dataset = SummarizationDataset(\n",
    "    None,\n",
    "    source=[source],\n",
    "    n_processes=1\n",
    ")\n",
    "preprocessed_dataset =  summarizer.processor.preprocess(small_test_dataset)\n"
   ]
  },
  {
   "cell_type": "code",
   "execution_count": null,
   "metadata": {},
   "outputs": [],
   "source": [
    "preprocessed_dataset[0].keys()"
   ]
  },
  {
   "cell_type": "code",
   "execution_count": null,
   "metadata": {},
   "outputs": [],
   "source": [
    "prediction = summarizer.predict(preprocessed_dataset, num_gpus=0, batch_size=1, min_length=24, max_length=48,)"
   ]
  },
  {
   "cell_type": "code",
   "execution_count": null,
   "metadata": {},
   "outputs": [],
   "source": [
    "prediction[0]"
   ]
  },
  {
   "cell_type": "code",
   "execution_count": null,
   "metadata": {},
   "outputs": [],
   "source": [
    "print(\"Total notebook running time {}\".format(time.time() - start_time))"
   ]
  },
  {
   "cell_type": "markdown",
   "metadata": {},
   "source": [
    "## Clean up temporary folders"
   ]
  },
  {
   "cell_type": "code",
   "execution_count": null,
   "metadata": {},
   "outputs": [],
   "source": [
    "\"\"\"\n",
    "if os.path.exists(DATA_PATH):\n",
    "    shutil.rmtree(DATA_PATH, ignore_errors=True)\n",
    "if os.path.exists(CACHE_DIR):\n",
    "    shutil.rmtree(CACHE_DIR, ignore_errors=True)\n",
    "\"\"\""
   ]
  }
 ],
 "metadata": {
  "celltoolbar": "Tags",
  "kernelspec": {
   "display_name": "Python (nlp_gpu)",
   "language": "python",
   "name": "nlp_gpu"
  },
  "language_info": {
   "codemirror_mode": {
    "name": "ipython",
    "version": 3
   },
   "file_extension": ".py",
   "mimetype": "text/x-python",
   "name": "python",
   "nbconvert_exporter": "python",
   "pygments_lexer": "ipython3",
   "version": "3.6.8"
  }
 },
 "nbformat": 4,
 "nbformat_minor": 2
}
